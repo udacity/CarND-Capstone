{
 "cells": [
  {
   "cell_type": "markdown",
   "metadata": {},
   "source": [
    "suggestion for using TF Object Detection\n",
    "https://medium.com/@anthony_sarkis/self-driving-cars-implementing-real-time-traffic-light-detection-and-classification-in-2017-7d9ae8df1c58\n",
    "\n",
    "Google's Approach to traffic light\n",
    "https://static.googleusercontent.com/media/research.google.com/en//pubs/archive/37259.pdf\n",
    "\n",
    "SqueezeNet trained on ImageNet\n",
    "https://medium.freecodecamp.org/recognizing-traffic-lights-with-deep-learning-23dae23287cc\n",
    "\n",
    "Convert Caffe Models to TF\n",
    "https://github.com/ethereon/caffe-tensorflow\n",
    "\n",
    "Transfer Learning using Keras (blog)\n",
    "https://towardsdatascience.com/transfer-learning-using-keras-d804b2e04ef8\n",
    "\n"
   ]
  },
  {
   "cell_type": "markdown",
   "metadata": {},
   "source": [
    "## Imports"
   ]
  },
  {
   "cell_type": "code",
   "execution_count": 19,
   "metadata": {},
   "outputs": [],
   "source": [
    "# So we can see the output of multiple variables in a single cell\n",
    "from IPython.core.interactiveshell import InteractiveShell\n",
    "InteractiveShell.ast_node_interactivity = \"all\"\n",
    "\n",
    "import os\n",
    "import numpy as np\n",
    "import matplotlib.pyplot as plt\n",
    "plt.style.use('fivethirtyeight')\n",
    "%matplotlib inline\n",
    "from tqdm import tqdm\n",
    "from collections import namedtuple\n",
    "\n",
    "import keras\n",
    "from keras.preprocessing.image import ImageDataGenerator\n",
    "from keras.models import Sequential\n",
    "from keras.layers import Dense, Dropout, Flatten\n",
    "from keras.layers import Conv2D, MaxPooling2D\n",
    "\n",
    "import tensorflow as tf\n",
    "from scipy.ndimage import imread\n",
    "from skimage.transform import resize\n",
    "from sklearn.utils import shuffle"
   ]
  },
  {
   "cell_type": "markdown",
   "metadata": {},
   "source": [
    "## Load Data"
   ]
  },
  {
   "cell_type": "code",
   "execution_count": 7,
   "metadata": {},
   "outputs": [],
   "source": [
    "path = './data/just-traffic-lights'\n",
    "\n",
    "image_paths = []\n",
    "for root, dirs, files in os.walk(path):\n",
    "    for file in files:\n",
    "        image_paths.append(os.path.join(root,file))"
   ]
  },
  {
   "cell_type": "code",
   "execution_count": 16,
   "metadata": {},
   "outputs": [
    {
     "name": "stdout",
     "output_type": "stream",
     "text": [
      "number of train images \t  972\n",
      "number of test images \t  100\n"
     ]
    }
   ],
   "source": [
    "# create validation train and test set\n",
    "image_paths = shuffle(image_paths)\n",
    "\n",
    "train_image_paths = image_paths[:-100]\n",
    "test_image_paths = image_paths[-100:]\n",
    "print('number of train images \\t{:>5}'.format(len(train_image_paths)))\n",
    "print('number of test images \\t{:>5}'.format(len(test_image_paths)))"
   ]
  },
  {
   "cell_type": "code",
   "execution_count": 63,
   "metadata": {},
   "outputs": [
    {
     "data": {
      "text/plain": [
       "array([[ 0.,  0.,  0.,  1.],\n",
       "       [ 0.,  0.,  0.,  1.],\n",
       "       [ 0.,  0.,  0.,  1.],\n",
       "       [ 0.,  1.,  0.,  0.],\n",
       "       [ 0.,  0.,  0.,  1.]])"
      ]
     },
     "execution_count": 63,
     "metadata": {},
     "output_type": "execute_result"
    }
   ],
   "source": [
    "def create_indices(image_paths):\n",
    "    \"\"\"\n",
    "    0 = none\n",
    "    1 = green\n",
    "    2 = yellow\n",
    "    3 = red\n",
    "    \n",
    "    :return :\n",
    "    {'./data/just-traffic-lights/real/Green/001094.png': 1}\n",
    "    \"\"\"\n",
    "\n",
    "    ind_dict = {}\n",
    "    for img in image_paths:\n",
    "        if \"No\" in img: \n",
    "            ind_dict[img] = 0\n",
    "        if \"Green\" in img: \n",
    "            ind_dict[img] = 1\n",
    "        if \"Yellow\" in img: \n",
    "            ind_dict[img] = 2\n",
    "        if \"Red\" in img: \n",
    "            ind_dict[img] = 3\n",
    "            \n",
    "    return ind_dict\n",
    "\n",
    "def get_one_hot(image_paths, ver='keras'):\n",
    "    \n",
    "    ind = create_indices(image_paths)\n",
    "    ind = [ind for key,ind in ind.items()]\n",
    "    \n",
    "    # tf version\n",
    "    if ver=='tf':\n",
    "        one_hot = tf.one_hot(ind, num_classes)\n",
    "    \n",
    "    # keras version\n",
    "    if ver==\"keras\":\n",
    "        one_hot = keras.utils.to_categorical(ind, num_classes=num_classes)\n",
    "    \n",
    "    return one_hot\n",
    "\n",
    "# test out one_hot\n",
    "get_one_hot(image_paths[:5])"
   ]
  },
  {
   "cell_type": "markdown",
   "metadata": {},
   "source": [
    "## generator configs"
   ]
  },
  {
   "cell_type": "code",
   "execution_count": 64,
   "metadata": {
    "collapsed": true
   },
   "outputs": [],
   "source": [
    "Image_Size = namedtuple('Image_Size', 'x y ch')\n",
    "image_size = Image_Size(x=50, y=50, ch=3)\n",
    "num_classes = 4"
   ]
  },
  {
   "cell_type": "code",
   "execution_count": 65,
   "metadata": {},
   "outputs": [],
   "source": [
    "def generator(samples, batch_size=1, verbose=False):\n",
    "    shuffle(samples)\n",
    "    num_samples = len(samples)\n",
    "    \n",
    "    for offset in range(0, num_samples, batch_size):\n",
    "        \n",
    "        # get a batch of image_paths\n",
    "        x_batch_paths = samples[offset : offset+batch_size]\n",
    "        x_batch = []\n",
    "        for img_path in x_batch_paths:\n",
    "            img = imread(img_path)\n",
    "            new_shape = resize(img, (image_size.x, image_size.y)) \n",
    "            x_batch.append(new_shape)\n",
    "            \n",
    "        # reshape images to 4D: (batch_size, row, col, chs)\n",
    "        x_batch = np.array(x_batch)\n",
    "        x_batch = x_batch.reshape(batch_size, image_size.x, image_size.y, image_size.ch)\n",
    "        \n",
    "        # get one-hot-encode labels based on path name\n",
    "        y_batch = get_one_hot(x_batch_paths)\n",
    "\n",
    "        assert len(y_batch) == len(x_batch),'Wrong Match {} {}'.format(len(y_batch), len(x_batch))\n",
    "        yield (x_batch, y_batch)"
   ]
  },
  {
   "cell_type": "code",
   "execution_count": 87,
   "metadata": {},
   "outputs": [],
   "source": [
    "train_datagen = ImageDataGenerator(\n",
    "    rescale = 1./255,\n",
    "    horizontal_flip = True,\n",
    "    fill_mode = \"nearest\",\n",
    "    shear_range = 0.5,\n",
    "    width_shift_range = 0.2,\n",
    "    height_shift_range = 0.2,\n",
    "    zoom_range = 0.2,\n",
    "    rotation_range=5)"
   ]
  },
  {
   "cell_type": "code",
   "execution_count": 67,
   "metadata": {
    "collapsed": true
   },
   "outputs": [],
   "source": [
    "valid_datagen = ImageDataGenerator(\n",
    "    rescale = 1./255,\n",
    "    horizontal_flip = False,\n",
    "    fill_mode = \"nearest\",\n",
    "    zoom_range = 0.0,\n",
    "    width_shift_range = 0.0,\n",
    "    height_shift_range=0.0,\n",
    "    rotation_range=0)"
   ]
  },
  {
   "cell_type": "code",
   "execution_count": 69,
   "metadata": {},
   "outputs": [
    {
     "name": "stderr",
     "output_type": "stream",
     "text": [
      "/Users/topher/anaconda/lib/python3.6/site-packages/skimage/transform/_warps.py:84: UserWarning: The default mode, 'constant', will be changed to 'reflect' in skimage 0.15.\n",
      "  warn(\"The default mode, 'constant', will be changed to 'reflect' in \"\n"
     ]
    },
    {
     "data": {
      "text/plain": [
       "(972, 50, 50, 3)"
      ]
     },
     "execution_count": 69,
     "metadata": {},
     "output_type": "execute_result"
    },
    {
     "data": {
      "text/plain": [
       "(972, 4)"
      ]
     },
     "execution_count": 69,
     "metadata": {},
     "output_type": "execute_result"
    },
    {
     "data": {
      "text/plain": [
       "(100, 50, 50, 3)"
      ]
     },
     "execution_count": 69,
     "metadata": {},
     "output_type": "execute_result"
    },
    {
     "data": {
      "text/plain": [
       "(100, 4)"
      ]
     },
     "execution_count": 69,
     "metadata": {},
     "output_type": "execute_result"
    }
   ],
   "source": [
    "x_train, y_train = next(generator(train_image_paths, batch_size=972))\n",
    "x_test, y_test = next(generator(test_image_paths, batch_size=100))\n",
    "\n",
    "train_gen = train_datagen.flow(x=x_train, y=y_train)\n",
    "test_gen = train_datagen.flow(x=x_test, y=y_test)\n",
    "\n",
    "x_train.shape\n",
    "y_train.shape\n",
    "\n",
    "x_test.shape\n",
    "y_test.shape"
   ]
  },
  {
   "cell_type": "code",
   "execution_count": 73,
   "metadata": {},
   "outputs": [
    {
     "name": "stdout",
     "output_type": "stream",
     "text": [
      "_________________________________________________________________\n",
      "Layer (type)                 Output Shape              Param #   \n",
      "=================================================================\n",
      "conv2d_3 (Conv2D)            (None, 48, 48, 32)        896       \n",
      "_________________________________________________________________\n",
      "conv2d_4 (Conv2D)            (None, 46, 46, 64)        18496     \n",
      "_________________________________________________________________\n",
      "max_pooling2d_2 (MaxPooling2 (None, 23, 23, 64)        0         \n",
      "_________________________________________________________________\n",
      "dropout_3 (Dropout)          (None, 23, 23, 64)        0         \n",
      "_________________________________________________________________\n",
      "flatten_2 (Flatten)          (None, 33856)             0         \n",
      "_________________________________________________________________\n",
      "dense_3 (Dense)              (None, 128)               4333696   \n",
      "_________________________________________________________________\n",
      "dropout_4 (Dropout)          (None, 128)               0         \n",
      "_________________________________________________________________\n",
      "dense_4 (Dense)              (None, 4)                 516       \n",
      "=================================================================\n",
      "Total params: 4,353,604\n",
      "Trainable params: 4,353,604\n",
      "Non-trainable params: 0\n",
      "_________________________________________________________________\n"
     ]
    }
   ],
   "source": [
    "model = Sequential()\n",
    "model.add(Conv2D(32, kernel_size=(3, 3),\n",
    "                 activation='relu',\n",
    "                 input_shape=(image_size.x, image_size.y, 3)))\n",
    "model.add(Conv2D(64, (3, 3), activation='relu'))\n",
    "model.add(MaxPooling2D(pool_size=(2, 2)))\n",
    "model.add(Dropout(0.25))\n",
    "model.add(Flatten())\n",
    "model.add(Dense(128, activation='relu'))\n",
    "model.add(Dropout(0.5))\n",
    "model.add(Dense(num_classes, activation='softmax'))\n",
    "\n",
    "model.compile(loss=keras.losses.categorical_crossentropy,\n",
    "              optimizer=keras.optimizers.Adadelta(),\n",
    "              metrics=['accuracy'])\n",
    "model.summary()"
   ]
  },
  {
   "cell_type": "code",
   "execution_count": 83,
   "metadata": {
    "scrolled": false
   },
   "outputs": [],
   "source": [
    "# samples_per_epoch = len(images_paths)\n",
    "nb_val_samples = 10\n",
    "nb_max_epoch = 5\n",
    "steps_per_epoch = 32\n",
    "\n",
    "hist = model.fit_generator(\n",
    "    generator=train_gen, \n",
    "    steps_per_epoch=steps_per_epoch, # number of samples of your dataset divided by the batch size\n",
    "    epochs=nb_max_epoch,\n",
    "    validation_data=test_gen,\n",
    "    use_multiprocessing=True,\n",
    "    initial_epoch=3)\n",
    "    "
   ]
  },
  {
   "cell_type": "code",
   "execution_count": 179,
   "metadata": {},
   "outputs": [
    {
     "data": {
      "image/png": "[encoded data removed]",
      "text/plain": [
       "<matplotlib.figure.Figure at 0x11ac760b8>"
      ]
     },
     "metadata": {},
     "output_type": "display_data"
    }
   ],
   "source": [
    "acc = hist.history['acc']\n",
    "loss = hist.history['loss']\n",
    "plt.plot(loss)\n",
    "plt.plot(acc)\n",
    "plt.legend(['loss', 'acc'])\n",
    "plt.show();"
   ]
  },
  {
   "cell_type": "code",
   "execution_count": null,
   "metadata": {
    "collapsed": true
   },
   "outputs": [],
   "source": []
  }
 ],
 "metadata": {
  "kernelspec": {
   "display_name": "Python 3",
   "language": "python",
   "name": "python3"
  },
  "language_info": {
   "codemirror_mode": {
    "name": "ipython",
    "version": 3
   },
   "file_extension": ".py",
   "mimetype": "text/x-python",
   "name": "python",
   "nbconvert_exporter": "python",
   "pygments_lexer": "ipython3",
   "version": "3.6.1"
  }
 },
 "nbformat": 4,
 "nbformat_minor": 2
}
