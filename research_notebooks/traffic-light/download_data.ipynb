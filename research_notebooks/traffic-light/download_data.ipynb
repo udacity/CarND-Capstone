{
 "cells": [
  {
   "cell_type": "markdown",
   "metadata": {},
   "source": [
    "# References"
   ]
  },
  {
   "cell_type": "markdown",
   "metadata": {},
   "source": [
    "suggestion for using TF Object Detection\n",
    "https://medium.com/@anthony_sarkis/self-driving-cars-implementing-real-time-traffic-light-detection-and-classification-in-2017-7d9ae8df1c58\n",
    "\n",
    "Google's Approach to traffic light\n",
    "https://static.googleusercontent.com/media/research.google.com/en//pubs/archive/37259.pdf\n",
    "\n",
    "SqueezeNet trained on ImageNet\n",
    "https://medium.freecodecamp.org/recognizing-traffic-lights-with-deep-learning-23dae23287cc\n",
    "\n",
    "Convert Caffe Models to TF\n",
    "https://github.com/ethereon/caffe-tensorflow\n",
    "\n",
    "Transfer Learning using Keras (blog)\n",
    "https://towardsdatascience.com/transfer-learning-using-keras-d804b2e04ef8\n"
   ]
  },
  {
   "cell_type": "markdown",
   "metadata": {},
   "source": [
    "# Download Datasets\n",
    " \n",
    "---\n",
    "## Los Altos\n",
    "\n",
    "Download link:\n",
    "https://drive.google.com/drive/folders/0Bx-GmE9uBTsCTmVoX0FxVU5kVHc\n",
    "\n",
    "Place this in your `download_dir` that is specified in the immediately proceeding cell.\n",
    "\n",
    "Contains a png images of real driving in Los Altos and the classification of and bounding box of traffic lights\n",
    "\n",
    "##### data\n",
    "./data/los-altos/train/\\*\\*/\\*.png\n",
    "##### labels\n",
    "./data/los-altos/train.yaml\n",
    "Labels are in yaml format\n",
    "```yaml\n",
    "  path: ./rgb/train/2015-10-05-16-02-30_bag/703062.png\n",
    "- boxes:\n",
    "  - {label: RedLeft, occluded: false, x_max: 536.2627074943, x_min: 527.9504961004,\n",
    "    y_max: 259.4134134066, y_min: 239.7337501584}\n",
    "  - {label: Red, occluded: false, x_max: 606.5768706269, x_min: 599.1649383548, y_max: 258.8548785478,\n",
    "    y_min: 239.7216236998}\n",
    "  - {label: Red, occluded: false, x_max: 663.2255031115, x_min: 655.7908822815, y_max: 258.9849821711,\n",
    "    y_min: 240.196122899}\n",
    "  - {label: Red, occluded: false, x_max: 832.5396369015, x_min: 820.5931243983, y_max: 277.8766194893,\n",
    "    y_min: 245.8794585057}\n",
    "  path: ./rgb/train/2015-10-05-16-02-30_bag/703270.png\n",
    "```\n",
    "---\n",
    "## Just Traffic Lights\n",
    "Only contains cropped images of Traffic Lights (png)\n",
    "##### data\n",
    "```\n",
    "./data/just-traffic-lights / [ real | simulated ] / [ Green|NoTraficLight|Red|Yellow ] /\\*.png\n",
    "```\n",
    "\n",
    "---\n",
    "## sim_training_data\n",
    "Images from Udacity's Simuulator.\n",
    "\n",
    "Folder names act as Labels:\n",
    "```\n",
    "sim_training_data/training/ [ green | red | yellow | unknown ] /\n",
    "```"
   ]
  },
  {
   "cell_type": "code",
   "execution_count": 2,
   "metadata": {
    "collapsed": true
   },
   "outputs": [],
   "source": [
    "import config\n",
    "import download"
   ]
  },
  {
   "cell_type": "markdown",
   "metadata": {},
   "source": [
    "## Change Me"
   ]
  },
  {
   "cell_type": "code",
   "execution_count": 3,
   "metadata": {},
   "outputs": [
    {
     "name": "stdout",
     "output_type": "stream",
     "text": [
      "Downloading to  /Users/topher/sdc/CarND-Capstone/research_notebooks/traffic-light/data\n"
     ]
    }
   ],
   "source": [
    "config.set_download_path('./data')"
   ]
  },
  {
   "cell_type": "code",
   "execution_count": 4,
   "metadata": {},
   "outputs": [
    {
     "name": "stdout",
     "output_type": "stream",
     "text": [
      "Data has apparently already been downloaded and unpacked.\n",
      "Data has apparently already been downloaded and unpacked.\n",
      "- Download progress: 100.0%\n",
      "Download finished. Extracting files.\n",
      "Done.\n"
     ]
    }
   ],
   "source": [
    "for dataset in config.datasets:\n",
    "    download.maybe_download_and_extract(dataset, config.download_dir)"
   ]
  },
  {
   "cell_type": "code",
   "execution_count": 5,
   "metadata": {},
   "outputs": [
    {
     "data": {
      "text/plain": [
       "['valid',\n",
       " 'sim-data-capture',\n",
       " 'training',\n",
       " 'training_data.zip',\n",
       " 'training_data.zip.1',\n",
       " '__MACOSX',\n",
       " 'sim_training_data.zip',\n",
       " 'just-traffic-lights.zip',\n",
       " 'just-traffic-lights',\n",
       " 'train']"
      ]
     },
     "execution_count": 5,
     "metadata": {},
     "output_type": "execute_result"
    }
   ],
   "source": [
    "# explore data\n",
    "\n",
    "import os\n",
    "os.listdir(config.download_dir)"
   ]
  },
  {
   "cell_type": "code",
   "execution_count": null,
   "metadata": {
    "collapsed": true
   },
   "outputs": [],
   "source": []
  }
 ],
 "metadata": {
  "anaconda-cloud": {},
  "kernelspec": {
   "display_name": "Python 3",
   "language": "python",
   "name": "python3"
  },
  "language_info": {
   "codemirror_mode": {
    "name": "ipython",
    "version": 3
   },
   "file_extension": ".py",
   "mimetype": "text/x-python",
   "name": "python",
   "nbconvert_exporter": "python",
   "pygments_lexer": "ipython3",
   "version": "3.6.1"
  }
 },
 "nbformat": 4,
 "nbformat_minor": 2
}
