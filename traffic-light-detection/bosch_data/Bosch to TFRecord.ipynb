{
 "cells": [
  {
   "cell_type": "code",
   "execution_count": 2,
   "metadata": {},
   "outputs": [],
   "source": [
    "import tensorflow as tf\n",
    "import yaml\n",
    "import sys\n",
    "# point to models/research directory of tensorflow\n",
    "sys.path.append(\"../models/research\") \n",
    "from object_detection.utils import dataset_util"
   ]
  },
  {
   "cell_type": "code",
   "execution_count": 3,
   "metadata": {},
   "outputs": [],
   "source": [
    "LABEL_DICT = {'Green': 1,\n",
    "             'GreenLeft': 2,\n",
    "             'GreenRight': 3,\n",
    "             'GreenStraight': 4,\n",
    "             'GreenStraightLeft': 5,\n",
    "             'GreenStraightRight': 6,\n",
    "             'Red': 7,\n",
    "             'RedLeft': 8,\n",
    "             'RedRight': 9,\n",
    "             'RedStraight': 10,\n",
    "             'RedStraightLeft': 11,\n",
    "             'Yellow': 12,\n",
    "             'off': 13\n",
    "             }\n",
    "\n",
    "def create_tf_example(example):\n",
    "    # TODO(user): Populate the following variables from your example.\n",
    "    height = 720 # Image height\n",
    "    width = 1280 # Image width\n",
    "    filename = example['path'] # Filename of the image. Empty if image is not from file\n",
    "    filename = filename.encode()\n",
    "    with tf.gfile.GFile(example['path'], 'rb') as fid:\n",
    "        encoded_image = fid.read()\n",
    "    image_format = 'png'.encode() # b'jpeg' or b'png'\n",
    "\n",
    "    xmins = [] # List of normalized left x coordinates in bounding box (1 per box)\n",
    "    xmaxs = [] # List of normalized right x coordinates in bounding box\n",
    "             # (1 per box)\n",
    "    ymins = [] # List of normalized top y coordinates in bounding box (1 per box)\n",
    "    ymaxs = [] # List of normalized bottom y coordinates in bounding box\n",
    "             # (1 per box)\n",
    "    classes_text = [] # List of string class name of bounding box (1 per box)\n",
    "    classes = [] # List o'f integer class id of bounding box (1 per box)\n",
    "\n",
    "    for box in example['boxes']:\n",
    "        xmins.append(float(box['x_min']/width))\n",
    "        xmaxs.append(float(box['x_max']/width))\n",
    "        ymins.append(float(box['y_min']/height))\n",
    "        ymaxs.append(float(box['y_max']/height))\n",
    "        classes_text.append(box['label'].encode())\n",
    "        classes.append(int(LABEL_DICT[box['label']]))\n",
    "        \n",
    "    tf_example = tf.train.Example(features=tf.train.Features(feature={\n",
    "      'image/height': dataset_util.int64_feature(height),\n",
    "      'image/width': dataset_util.int64_feature(width),\n",
    "      'image/filename': dataset_util.bytes_feature(filename),\n",
    "      'image/source_id': dataset_util.bytes_feature(filename),\n",
    "      'image/encoded': dataset_util.bytes_feature(encoded_image),\n",
    "      'image/format': dataset_util.bytes_feature(image_format),\n",
    "      'image/object/bbox/xmin': dataset_util.float_list_feature(xmins),\n",
    "      'image/object/bbox/xmax': dataset_util.float_list_feature(xmaxs),\n",
    "      'image/object/bbox/ymin': dataset_util.float_list_feature(ymins),\n",
    "      'image/object/bbox/ymax': dataset_util.float_list_feature(ymaxs),\n",
    "      'image/object/class/text': dataset_util.bytes_list_feature(classes_text),\n",
    "      'image/object/class/label': dataset_util.int64_list_feature(classes),\n",
    "    }))\n",
    "    return tf_example"
   ]
  },
  {
   "cell_type": "code",
   "execution_count": 4,
   "metadata": {},
   "outputs": [],
   "source": [
    "writer = tf.python_io.TFRecordWriter(\"./bosch.record\")"
   ]
  },
  {
   "cell_type": "code",
   "execution_count": 14,
   "metadata": {},
   "outputs": [],
   "source": [
    "examples = yaml.load(open(\"../dataset_train_rgb/train.yaml\", \"rb\").read())"
   ]
  },
  {
   "cell_type": "code",
   "execution_count": 15,
   "metadata": {},
   "outputs": [],
   "source": [
    "from collections import Counter\n",
    "import os\n",
    "PATH_TO_BOSCH_DATA_SET = \"../dataset_train_rgb\"\n",
    "labels = []\n",
    "for example in examples:\n",
    "    example['path'] = os.path.join(PATH_TO_BOSCH_DATA_SET, *example['path'].split(\"/\")[1:])"
   ]
  },
  {
   "cell_type": "code",
   "execution_count": 16,
   "metadata": {},
   "outputs": [
    {
     "data": {
      "text/plain": [
       "'../dataset_train_rgb/rgb/train/2015-10-05-16-02-30_bag/720932.png'"
      ]
     },
     "execution_count": 16,
     "metadata": {},
     "output_type": "execute_result"
    }
   ],
   "source": [
    "example['path']"
   ]
  },
  {
   "cell_type": "code",
   "execution_count": 17,
   "metadata": {},
   "outputs": [],
   "source": [
    "for example in examples:\n",
    "    tf_example = create_tf_example(example)\n",
    "    writer.write(tf_example.SerializeToString())\n",
    "writer.close()"
   ]
  },
  {
   "cell_type": "code",
   "execution_count": null,
   "metadata": {},
   "outputs": [],
   "source": []
  }
 ],
 "metadata": {
  "kernelspec": {
   "display_name": "Python 3",
   "language": "python",
   "name": "python3"
  },
  "language_info": {
   "codemirror_mode": {
    "name": "ipython",
    "version": 3
   },
   "file_extension": ".py",
   "mimetype": "text/x-python",
   "name": "python",
   "nbconvert_exporter": "python",
   "pygments_lexer": "ipython3",
   "version": "3.6.4"
  }
 },
 "nbformat": 4,
 "nbformat_minor": 2
}
